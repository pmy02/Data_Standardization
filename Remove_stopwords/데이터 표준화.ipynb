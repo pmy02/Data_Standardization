{
 "cells": [
  {
   "cell_type": "code",
   "execution_count": 121,
   "id": "1e72dbbd",
   "metadata": {},
   "outputs": [
    {
     "data": {
      "text/html": [
       "<div>\n",
       "<style scoped>\n",
       "    .dataframe tbody tr th:only-of-type {\n",
       "        vertical-align: middle;\n",
       "    }\n",
       "\n",
       "    .dataframe tbody tr th {\n",
       "        vertical-align: top;\n",
       "    }\n",
       "\n",
       "    .dataframe thead th {\n",
       "        text-align: right;\n",
       "    }\n",
       "</style>\n",
       "<table border=\"1\" class=\"dataframe\">\n",
       "  <thead>\n",
       "    <tr style=\"text-align: right;\">\n",
       "      <th></th>\n",
       "      <th>상품명</th>\n",
       "      <th>표준상품명</th>\n",
       "    </tr>\n",
       "  </thead>\n",
       "  <tbody>\n",
       "    <tr>\n",
       "      <th>0</th>\n",
       "      <td>----------------</td>\n",
       "      <td>-</td>\n",
       "    </tr>\n",
       "    <tr>\n",
       "      <th>1</th>\n",
       "      <td>-----------------</td>\n",
       "      <td>-</td>\n",
       "    </tr>\n",
       "    <tr>\n",
       "      <th>2</th>\n",
       "      <td>----------------------</td>\n",
       "      <td>-</td>\n",
       "    </tr>\n",
       "    <tr>\n",
       "      <th>3</th>\n",
       "      <td>--------------------------------</td>\n",
       "      <td>-</td>\n",
       "    </tr>\n",
       "    <tr>\n",
       "      <th>4</th>\n",
       "      <td>도트 빗살삔</td>\n",
       "      <td>-</td>\n",
       "    </tr>\n",
       "    <tr>\n",
       "      <th>...</th>\n",
       "      <td>...</td>\n",
       "      <td>...</td>\n",
       "    </tr>\n",
       "    <tr>\n",
       "      <th>194862</th>\n",
       "      <td>ㅡ0.5 빼기</td>\n",
       "      <td>-</td>\n",
       "    </tr>\n",
       "    <tr>\n",
       "      <th>194863</th>\n",
       "      <td>ㅡ0.5단계 빼기</td>\n",
       "      <td>-</td>\n",
       "    </tr>\n",
       "    <tr>\n",
       "      <th>194864</th>\n",
       "      <td>ㅡ0.5단계 빼기+</td>\n",
       "      <td>-</td>\n",
       "    </tr>\n",
       "    <tr>\n",
       "      <th>194865</th>\n",
       "      <td>ㅣ버터구이한입쥐포</td>\n",
       "      <td>버터 쥐포</td>\n",
       "    </tr>\n",
       "    <tr>\n",
       "      <th>194866</th>\n",
       "      <td>ㅣㅣ아일오브독스 에브리데이 실키코팅 샴푸 500ml</td>\n",
       "      <td>-</td>\n",
       "    </tr>\n",
       "  </tbody>\n",
       "</table>\n",
       "<p>194867 rows × 2 columns</p>\n",
       "</div>"
      ],
      "text/plain": [
       "                                               상품명  표준상품명\n",
       "0                                 ----------------      -\n",
       "1                                -----------------      -\n",
       "2                           ----------------------      -\n",
       "3                 --------------------------------      -\n",
       "4                                           도트 빗살삔      -\n",
       "...                                            ...    ...\n",
       "194862                                     ㅡ0.5 빼기      -\n",
       "194863                                   ㅡ0.5단계 빼기      -\n",
       "194864                                  ㅡ0.5단계 빼기+      -\n",
       "194865                                   ㅣ버터구이한입쥐포  버터 쥐포\n",
       "194866                ㅣㅣ아일오브독스 에브리데이 실키코팅 샴푸 500ml      -\n",
       "\n",
       "[194867 rows x 2 columns]"
      ]
     },
     "execution_count": 121,
     "metadata": {},
     "output_type": "execute_result"
    }
   ],
   "source": [
    "import re\n",
    "import pandas as pd\n",
    "\n",
    "\n",
    "# 엑셀 파일 불러오기\n",
    "df = pd.read_excel('/Users/nanum/Downloads/참고용 ver26.xlsx')\n",
    "df"
   ]
  },
  {
   "cell_type": "code",
   "execution_count": null,
   "id": "a27c6dd6",
   "metadata": {},
   "outputs": [],
   "source": [
    "def preprocess_text(text):\n",
    "    # 앞뒤 공백 제거\n",
    "    text = text.strip()\n",
    "    return text\n",
    "\n",
    "\n",
    "# 특정 열에 함수 적용\n",
    "df['표준상품명'] = df['표준상품명'].astype(str)\n",
    "df['표준상품명'] = df['표준상품명'].apply(preprocess_text)\n",
    "\n",
    "# 공백 1개로 통일\n",
    "df['표준상품명'] = df['표준상품명'].apply(lambda x: re.sub(r'\\s+', ' ', x))\n",
    "\n",
    "pd.set_option('display.max_rows', 10000)\n",
    "print(df['표준상품명'].tail(10000))"
   ]
  },
  {
   "cell_type": "code",
   "execution_count": null,
   "id": "e0e6012f",
   "metadata": {},
   "outputs": [],
   "source": [
    "# 중복되지 않는 데이터 추출\n",
    "column_name = '표준상품명'\n",
    "unique_data = df[column_name].drop_duplicates()\n",
    "print(unique_data)"
   ]
  },
  {
   "cell_type": "code",
   "execution_count": 178,
   "id": "cb3b7c1f",
   "metadata": {},
   "outputs": [],
   "source": [
    "import re\n",
    "\n",
    "# 룰에 맞게 표준화\n",
    "#df['표준상품명'] = df['표준상품명'].apply(lambda x: re.sub(r'샤인\\s*머스켓', '샤인머스캣', str(x)))\n",
    "#df['표준상품명'] = df['표준상품명'].apply(lambda x: re.sub(r'아인\\s*슈페\\s*너', '아인슈페너', str(x)))\n",
    "#df['표준상품명'] = df['표준상품명'].str.replace(r'\\b뚱카롱\\b', '마카롱', regex=True)\n",
    "\n",
    "\n",
    "# 불용어만 제거\n",
    "df['표준상품명'] = df['표준상품명'].str.replace(r'\\b포켓\\b', '', regex=True)\n",
    "\n",
    "# 불용어 포함 제거\n",
    "#df.loc[df['표준상품명'].str.contains('체인'), '표준상품명'] = '-'"
   ]
  },
  {
   "cell_type": "code",
   "execution_count": 180,
   "id": "7163694f",
   "metadata": {},
   "outputs": [],
   "source": [
    "# nan 값 제거\n",
    "df.loc[df['표준상품명'] == 'nan', '표준상품명'] = '-'\n",
    "df.loc[df['표준상품명'] == '', '표준상품명'] = '-'"
   ]
  },
  {
   "cell_type": "code",
   "execution_count": null,
   "id": "7b990c22",
   "metadata": {
    "scrolled": true
   },
   "outputs": [],
   "source": [
    "# 빈도수 계산 후 정렬\n",
    "freq = df['표준상품명'].value_counts().sort_values(ascending=False)\n",
    "\n",
    "# 출력\n",
    "print(freq[50000:51000])"
   ]
  },
  {
   "cell_type": "code",
   "execution_count": null,
   "id": "78569f5f",
   "metadata": {},
   "outputs": [],
   "source": [
    "# 표준화 완료 개수\n",
    "sum_counts = freq.iloc[:1000].sum()\n",
    "print(sum_counts)"
   ]
  },
  {
   "cell_type": "code",
   "execution_count": 185,
   "id": "6a7e1a59",
   "metadata": {},
   "outputs": [],
   "source": [
    "# 저장하기\n",
    "df.to_excel('/Users/nanum/Downloads/참고용 ver27.xlsx', index=False)"
   ]
  }
 ],
 "metadata": {
  "kernelspec": {
   "display_name": "Python 3 (ipykernel)",
   "language": "python",
   "name": "python3"
  },
  "language_info": {
   "codemirror_mode": {
    "name": "ipython",
    "version": 3
   },
   "file_extension": ".py",
   "mimetype": "text/x-python",
   "name": "python",
   "nbconvert_exporter": "python",
   "pygments_lexer": "ipython3",
   "version": "3.9.13"
  }
 },
 "nbformat": 4,
 "nbformat_minor": 5
}
